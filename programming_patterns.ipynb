{
 "cells": [
  {
   "cell_type": "code",
   "execution_count": 1,
   "id": "0235e6a8",
   "metadata": {},
   "outputs": [],
   "source": [
    "#all square patterns"
   ]
  },
  {
   "cell_type": "code",
   "execution_count": 10,
   "id": "7d1b981b",
   "metadata": {},
   "outputs": [
    {
     "name": "stdout",
     "output_type": "stream",
     "text": [
      "5\n",
      "* * * * * \n",
      "* * * * * \n",
      "* * * * * \n",
      "* * * * * \n",
      "* * * * * \n"
     ]
    }
   ],
   "source": [
    "#square of stars using while\n",
    "n = int(input())\n",
    "i = 0\n",
    "\n",
    "while i <n:\n",
    "    j = 0\n",
    "    while j < n:\n",
    "        print(\"*\", end=' ')\n",
    "        j+=1\n",
    "    print()\n",
    "    i +=1\n",
    "    \n",
    "    "
   ]
  },
  {
   "cell_type": "code",
   "execution_count": 13,
   "id": "d0c4ee67",
   "metadata": {},
   "outputs": [
    {
     "name": "stdout",
     "output_type": "stream",
     "text": [
      "5\n",
      "* * * * * \n",
      "* * * * * \n",
      "* * * * * \n",
      "* * * * * \n",
      "* * * * * \n"
     ]
    }
   ],
   "source": [
    "#square of stars using for loop\n",
    "n = int(input())\n",
    "for i in range(n):\n",
    "    for j in range(n):\n",
    "        print(\"*\", end=' ')\n",
    "    print()"
   ]
  },
  {
   "cell_type": "code",
   "execution_count": 15,
   "id": "37de5c28",
   "metadata": {},
   "outputs": [
    {
     "name": "stdout",
     "output_type": "stream",
     "text": [
      "5\n",
      "1 1 1 1 1 \n",
      "2 2 2 2 2 \n",
      "3 3 3 3 3 \n",
      "4 4 4 4 4 \n",
      "5 5 5 5 5 \n"
     ]
    }
   ],
   "source": [
    "#To print square pattern with provided fixed digit in every row using while loop\n",
    "n = int(input())\n",
    "i = 0\n",
    "while i < n:\n",
    "    j = 0\n",
    "    while j < n:\n",
    "        print(str(i+1),end = \" \")\n",
    "        j = j+1\n",
    "    print()\n",
    "    i+=1\n",
    "        \n"
   ]
  },
  {
   "cell_type": "code",
   "execution_count": 16,
   "id": "b0e052f2",
   "metadata": {},
   "outputs": [
    {
     "name": "stdout",
     "output_type": "stream",
     "text": [
      "5\n",
      "1 1 1 1 1 \n",
      "2 2 2 2 2 \n",
      "3 3 3 3 3 \n",
      "4 4 4 4 4 \n",
      "5 5 5 5 5 \n"
     ]
    }
   ],
   "source": [
    "#To print square pattern with provided fixed digit in every row using for loop\n",
    "n = int(input())\n",
    "for i in range(n):\n",
    "    for j in range(n):\n",
    "        print(str(i+1), end =\" \")\n",
    "    print()"
   ]
  },
  {
   "cell_type": "code",
   "execution_count": 26,
   "id": "fe2395db",
   "metadata": {},
   "outputs": [
    {
     "name": "stdout",
     "output_type": "stream",
     "text": [
      "Enter the number of characters of want batman5\n",
      "A A A A A \n",
      "B B B B B \n",
      "C C C C C \n",
      "D D D D D \n",
      "E E E E E \n"
     ]
    }
   ],
   "source": [
    "n = int(input(\"Enter the number of characters of want batman\"))\n",
    "i =0\n",
    "while i < n:\n",
    "    j = 0\n",
    "    while j < n:\n",
    "        print(chr(65+i),end = \" \")\n",
    "        j = j+1\n",
    "    print()\n",
    "    i+=1"
   ]
  },
  {
   "cell_type": "code",
   "execution_count": 27,
   "id": "709ff48c",
   "metadata": {},
   "outputs": [
    {
     "name": "stdout",
     "output_type": "stream",
     "text": [
      "Enter the number of characters of want batman5\n",
      "A B C D E \n",
      "A B C D E \n",
      "A B C D E \n",
      "A B C D E \n",
      "A B C D E \n"
     ]
    }
   ],
   "source": [
    "n = int(input(\"Enter the number of characters of want batman\"))\n",
    "i =0\n",
    "while i < n:\n",
    "    j = 0\n",
    "    while j < n:\n",
    "        print(chr(65+j),end = \" \")\n",
    "        j = j+1\n",
    "    print()\n",
    "    i+=1"
   ]
  },
  {
   "cell_type": "code",
   "execution_count": 28,
   "id": "f4978d0f",
   "metadata": {},
   "outputs": [
    {
     "name": "stdout",
     "output_type": "stream",
     "text": [
      "Enter the number of characters of want batman5\n",
      "E E E E E \n",
      "D D D D D \n",
      "C C C C C \n",
      "B B B B B \n",
      "A A A A A \n"
     ]
    }
   ],
   "source": [
    "n = int(input(\"Enter the number of characters of want batman\"))\n",
    "i =0\n",
    "while i < n:\n",
    "    j = 0\n",
    "    while j < n:\n",
    "        print(chr(64+n-i),end = \" \")\n",
    "        j = j+1\n",
    "    print()\n",
    "    i+=1"
   ]
  },
  {
   "cell_type": "code",
   "execution_count": 29,
   "id": "1e259289",
   "metadata": {},
   "outputs": [
    {
     "name": "stdout",
     "output_type": "stream",
     "text": [
      "Enter the number of characters of want batman5\n",
      "E D C B A \n",
      "E D C B A \n",
      "E D C B A \n",
      "E D C B A \n",
      "E D C B A \n"
     ]
    }
   ],
   "source": [
    "n = int(input(\"Enter the number of characters of want batman\"))\n",
    "i =0\n",
    "while i < n:\n",
    "    j = 0\n",
    "    while j < n:\n",
    "        print(chr(64+n-j),end = \" \")\n",
    "        j = j+1\n",
    "    print()\n",
    "    i+=1"
   ]
  },
  {
   "cell_type": "markdown",
   "id": "258b076f",
   "metadata": {},
   "source": [
    "#Triangle Patterns"
   ]
  },
  {
   "cell_type": "code",
   "execution_count": 3,
   "id": "b798a321",
   "metadata": {},
   "outputs": [
    {
     "name": "stdout",
     "output_type": "stream",
     "text": [
      "5\n",
      "* \n",
      "* * \n",
      "* * * \n",
      "* * * * \n",
      "* * * * * \n"
     ]
    }
   ],
   "source": [
    "n = int(input())\n",
    "i=0\n",
    "while i<n:\n",
    "    j=0\n",
    "    while j <= i:\n",
    "        print(\"*\", end=' ')\n",
    "        j+=1\n",
    "    print()\n",
    "    i+=1"
   ]
  },
  {
   "cell_type": "code",
   "execution_count": 4,
   "id": "b07f756b",
   "metadata": {},
   "outputs": [
    {
     "name": "stdout",
     "output_type": "stream",
     "text": [
      "5\n",
      "* * * * * \n",
      "* * * * \n",
      "* * * \n",
      "* * \n",
      "* \n"
     ]
    }
   ],
   "source": [
    "n = int(input())\n",
    "i = n\n",
    "while i>0:\n",
    "    j = i\n",
    "    while j >0:\n",
    "        print('*', end=\" \")\n",
    "        j-=1\n",
    "    print()\n",
    "    i-=1"
   ]
  },
  {
   "cell_type": "code",
   "execution_count": 7,
   "id": "6fe57761",
   "metadata": {},
   "outputs": [
    {
     "name": "stdout",
     "output_type": "stream",
     "text": [
      "5\n",
      "1 \n",
      "2 2 \n",
      "3 3 3 \n",
      "4 4 4 4 \n",
      "5 5 5 5 5 \n"
     ]
    }
   ],
   "source": [
    "n = int(input())\n",
    "i=0\n",
    "while i<n:\n",
    "    j=0\n",
    "    while j <= i:\n",
    "        print(i+1, end=' ')\n",
    "        j+=1\n",
    "    print()\n",
    "    i+=1"
   ]
  },
  {
   "cell_type": "code",
   "execution_count": 8,
   "id": "895a1af7",
   "metadata": {},
   "outputs": [
    {
     "name": "stdout",
     "output_type": "stream",
     "text": [
      "5\n",
      "5 5 5 5 5 \n",
      "4 4 4 4 \n",
      "3 3 3 \n",
      "2 2 \n",
      "1 \n"
     ]
    }
   ],
   "source": [
    "n = int(input())\n",
    "i = n\n",
    "while i>0:\n",
    "    j = i\n",
    "    while j >0:\n",
    "        print(i, end=\" \")\n",
    "        j-=1\n",
    "    print()\n",
    "    i-=1"
   ]
  },
  {
   "cell_type": "code",
   "execution_count": 12,
   "id": "ae99ed7d",
   "metadata": {},
   "outputs": [
    {
     "name": "stdout",
     "output_type": "stream",
     "text": [
      "5\n",
      "E E E E E \n",
      "D D D D \n",
      "C C C \n",
      "B B \n",
      "A \n"
     ]
    }
   ],
   "source": [
    "n = int(input())\n",
    "i = n\n",
    "while i>0:\n",
    "    j = i\n",
    "    while j >0:\n",
    "        print(chr(65+i-1), end=\" \")\n",
    "        j-=1\n",
    "    print()\n",
    "    i-=1"
   ]
  },
  {
   "cell_type": "code",
   "execution_count": 14,
   "id": "757446a3",
   "metadata": {},
   "outputs": [
    {
     "name": "stdout",
     "output_type": "stream",
     "text": [
      "5\n",
      "A \n",
      "B B \n",
      "C C C \n",
      "D D D D \n",
      "E E E E E \n"
     ]
    }
   ],
   "source": [
    "n = int(input())\n",
    "i=0\n",
    "while i<n:\n",
    "    j=0\n",
    "    while j <= i:\n",
    "        print(chr(65+i), end=' ')\n",
    "        j+=1\n",
    "    print()\n",
    "    i+=1"
   ]
  },
  {
   "cell_type": "markdown",
   "id": "f8e1bc1c",
   "metadata": {},
   "source": [
    "#Total Pyramid patterns "
   ]
  },
  {
   "cell_type": "code",
   "execution_count": 19,
   "id": "916ba940",
   "metadata": {},
   "outputs": [
    {
     "name": "stdout",
     "output_type": "stream",
     "text": [
      "7\n",
      "      * \n",
      "     * * \n",
      "    * * * \n",
      "   * * * * \n",
      "  * * * * * \n",
      " * * * * * * \n",
      "* * * * * * * \n"
     ]
    },
    {
     "data": {
      "text/plain": [
       "'\\nreplace * with ==:> str(i+1)+\" \" \\nto get this below pattern\\n    1 \\n   2 2 \\n  3 3 3 \\n 4 4 4 4 \\n5 5 5 5 5'"
      ]
     },
     "execution_count": 19,
     "metadata": {},
     "output_type": "execute_result"
    }
   ],
   "source": [
    "n = int(input())\n",
    "i = 0\n",
    "while i <n:\n",
    "    j = 0\n",
    "    while j < n-i-1:\n",
    "        print(\" \", end='')\n",
    "        j+=1\n",
    "    k = 0 \n",
    "    while k <=i:\n",
    "        print(\"* \", end='')\n",
    "        k+=1\n",
    "    print()\n",
    "    i+=1\n",
    "'''\n",
    "replace * with ==:> str(i+1)+\" \" \n",
    "to get this below pattern\n",
    "    1 \n",
    "   2 2 \n",
    "  3 3 3 \n",
    " 4 4 4 4 \n",
    "5 5 5 5 5'''   \n",
    "        "
   ]
  },
  {
   "cell_type": "markdown",
   "id": "dfa82d37",
   "metadata": {},
   "source": [
    "Inverted Diamond Patterns"
   ]
  },
  {
   "cell_type": "code",
   "execution_count": 21,
   "id": "9716fb91",
   "metadata": {},
   "outputs": [
    {
     "name": "stdout",
     "output_type": "stream",
     "text": [
      "5\n",
      "* * * * * \n",
      " * * * * \n",
      "  * * * \n",
      "   * * \n",
      "    * \n"
     ]
    }
   ],
   "source": [
    "n = int(input())\n",
    "i = 0\n",
    "while i<n:\n",
    "    k = 0\n",
    "    while k<i:\n",
    "        print(\" \", end='')\n",
    "        k+=1\n",
    "        \n",
    "    j = 0\n",
    "    while j < n-i:\n",
    "        print(\"* \", end='')\n",
    "        j+=1\n",
    "    print()\n",
    "    i+=1\n",
    "        \n",
    "    "
   ]
  },
  {
   "cell_type": "markdown",
   "id": "355f6422",
   "metadata": {},
   "source": [
    "Diamond Pattern"
   ]
  },
  {
   "cell_type": "code",
   "execution_count": 31,
   "id": "6cc37a6d",
   "metadata": {},
   "outputs": [
    {
     "name": "stdout",
     "output_type": "stream",
     "text": [
      "5\n",
      "    * \n",
      "   * * \n",
      "  * * * \n",
      " * * * * \n",
      "* * * * * \n",
      " * * * *\n",
      "  * * *\n",
      "   * *\n",
      "    *\n",
      "    \n"
     ]
    }
   ],
   "source": [
    "n = int(input())\n",
    "i = 0\n",
    "while i <n:\n",
    "    j = 0\n",
    "    while j < n-i-1:\n",
    "        print(\" \", end='')\n",
    "        j+=1\n",
    "    k = 0 \n",
    "    while k <=i:\n",
    "        print(\"* \", end='')\n",
    "        k+=1\n",
    "    print()\n",
    "    i+=1\n",
    "i = 0\n",
    "while i<n:\n",
    "    k = 0\n",
    "    while k<i:\n",
    "        print(\" \", end='')\n",
    "        k+=1\n",
    "        \n",
    "    j = 0\n",
    "    while j < n-i-1:\n",
    "        print(\" *\", end='')\n",
    "        j+=1\n",
    "    print()\n",
    "    i+=1"
   ]
  },
  {
   "cell_type": "markdown",
   "id": "41c62999",
   "metadata": {},
   "source": [
    "Half Diamond Patterns"
   ]
  },
  {
   "cell_type": "code",
   "execution_count": 34,
   "id": "f5547623",
   "metadata": {},
   "outputs": [
    {
     "name": "stdout",
     "output_type": "stream",
     "text": [
      "5\n",
      "* \n",
      "* * \n",
      "* * * \n",
      "* * * * \n",
      "* * * * * \n",
      "* * * * \n",
      "* * * \n",
      "* * \n",
      "* \n"
     ]
    }
   ],
   "source": [
    "n = int(input())\n",
    "i = 0\n",
    "while i<n:\n",
    "    j=0\n",
    "    while j<=i:\n",
    "        print(\"* \", end='')\n",
    "        j+=1\n",
    "    print()\n",
    "    i+=1\n",
    "i = 0 \n",
    "while i < n-1:\n",
    "    j = 0\n",
    "    while j<n-i-1:\n",
    "        print(\"* \",end='')\n",
    "        j+=1\n",
    "    print()\n",
    "    i+=1\n",
    "    "
   ]
  },
  {
   "cell_type": "code",
   "execution_count": 42,
   "id": "85131ff4",
   "metadata": {},
   "outputs": [
    {
     "name": "stdout",
     "output_type": "stream",
     "text": [
      "5\n",
      "    *\n",
      "   **\n",
      "  ***\n",
      " ****\n",
      "*****\n",
      " ****\n",
      "  ***\n",
      "   **\n",
      "    *\n",
      "     \n"
     ]
    }
   ],
   "source": [
    "n = int(input())\n",
    "i = 0 \n",
    "while i<n:\n",
    "    j = 0\n",
    "    while j<n-i-1:\n",
    "        print(\" \", end='')\n",
    "        j+=1\n",
    "    k = 0\n",
    "    while k<=i:\n",
    "        print(\"*\", end='')\n",
    "        k+=1\n",
    "    print()\n",
    "    i+=1\n",
    "i = 0\n",
    "while i<n:\n",
    "    k = 0\n",
    "    while k<=i:\n",
    "        print(\" \", end='')\n",
    "        k+=1\n",
    "    j = 0\n",
    "    while j < n-i-1:\n",
    "        print(\"*\", end='')\n",
    "        j+=1\n",
    "    print()\n",
    "    i+=1\n",
    "        "
   ]
  },
  {
   "cell_type": "code",
   "execution_count": 1,
   "id": "46173aad",
   "metadata": {},
   "outputs": [
    {
     "name": "stdout",
     "output_type": "stream",
     "text": [
      "Enter number of row: 5\n",
      "    *\n",
      "   * *\n",
      "  *   *\n",
      " *     *\n",
      "*       *\n"
     ]
    }
   ],
   "source": [
    "# Reading number of row\n",
    "row = int(input('Enter number of row: '))\n",
    "\n",
    "# Upper part of hollow diamond\n",
    "for i in range(1, row+1):\n",
    "    for j in range(1,row-i+1):\n",
    "        print(\" \", end=\"\")\n",
    "    for j in range(1, 2*i):\n",
    "        if j==1 or j==2*i-1:\n",
    "            print(\"*\", end=\"\")\n",
    "        else:\n",
    "            print(\" \", end=\"\")\n",
    "    print()"
   ]
  },
  {
   "cell_type": "code",
   "execution_count": 7,
   "id": "a72ee6ef",
   "metadata": {},
   "outputs": [
    {
     "name": "stdout",
     "output_type": "stream",
     "text": [
      "5\n",
      "      \n",
      "     * \n",
      "    * * \n",
      "   *   * \n",
      "  *     * \n",
      " *       * \n"
     ]
    }
   ],
   "source": [
    "n = int(input())\n",
    "i = 0\n",
    "while i<n+1:\n",
    "    j =0\n",
    "    while j<=n-i-1:\n",
    "        print(\" \",end='')\n",
    "        j+=1\n",
    "    k = 0\n",
    "    while k<= 2*i:\n",
    "        if k ==1 or k==2*i-1:\n",
    "            print(\"*\", end='')\n",
    "        else:\n",
    "            print(\" \",end='')\n",
    "        k+=1\n",
    "    print()\n",
    "    i+=1"
   ]
  },
  {
   "cell_type": "code",
   "execution_count": 11,
   "id": "66ebdca9",
   "metadata": {},
   "outputs": [
    {
     "name": "stdout",
     "output_type": "stream",
     "text": [
      "4\n",
      "   1\n",
      "  232\n",
      " 34543\n",
      "4567654\n"
     ]
    }
   ],
   "source": [
    "'''\n",
    "pattern of \n",
    "     1\n",
    "    232\n",
    "   34543\n",
    "  4567654\n",
    "'''\n",
    "\n",
    "n = int(input())\n",
    "\n",
    "for i in range(1,n+1,1):\n",
    "    #printing for space\n",
    "    for space in range(n-i):\n",
    "        print(\" \", end='')\n",
    "    #for increasing pattern\n",
    "    for num in range(i,2*i):\n",
    "        print(num, end='')\n",
    "    #for decreasing pattern\n",
    "    for num in range(2*i-2,i-1,-1):\n",
    "        print(num, end='')\n",
    "    print()"
   ]
  },
  {
   "cell_type": "code",
   "execution_count": null,
   "id": "1569d5fa",
   "metadata": {},
   "outputs": [],
   "source": []
  },
  {
   "cell_type": "code",
   "execution_count": null,
   "id": "23e9d42e",
   "metadata": {},
   "outputs": [],
   "source": []
  }
 ],
 "metadata": {
  "kernelspec": {
   "display_name": "Python 3 (ipykernel)",
   "language": "python",
   "name": "python3"
  },
  "language_info": {
   "codemirror_mode": {
    "name": "ipython",
    "version": 3
   },
   "file_extension": ".py",
   "mimetype": "text/x-python",
   "name": "python",
   "nbconvert_exporter": "python",
   "pygments_lexer": "ipython3",
   "version": "3.9.13"
  }
 },
 "nbformat": 4,
 "nbformat_minor": 5
}
